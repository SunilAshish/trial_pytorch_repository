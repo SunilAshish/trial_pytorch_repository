{
  "nbformat": 4,
  "nbformat_minor": 0,
  "metadata": {
    "colab": {
      "provenance": [],
      "gpuType": "T4",
      "authorship_tag": "ABX9TyOWs4+/SOZbeCaQw143BK/s",
      "include_colab_link": true
    },
    "kernelspec": {
      "name": "python3",
      "display_name": "Python 3"
    },
    "language_info": {
      "name": "python"
    },
    "accelerator": "GPU"
  },
  "cells": [
    {
      "cell_type": "markdown",
      "metadata": {
        "id": "view-in-github",
        "colab_type": "text"
      },
      "source": [
        "<a href=\"https://colab.research.google.com/github/SunilAshish/trial_pytorch_repository/blob/main/trial_pytorch_lecture.ipynb\" target=\"_parent\"><img src=\"https://colab.research.google.com/assets/colab-badge.svg\" alt=\"Open In Colab\"/></a>"
      ]
    },
    {
      "cell_type": "code",
      "execution_count": 2,
      "metadata": {
        "id": "tQFq6fsgURyb"
      },
      "outputs": [],
      "source": [
        "import torch"
      ]
    },
    {
      "cell_type": "code",
      "source": [
        "#!pip list"
      ],
      "metadata": {
        "id": "9Pwsj0kVUkKS"
      },
      "execution_count": 2,
      "outputs": []
    },
    {
      "cell_type": "code",
      "source": [
        "import numpy as np"
      ],
      "metadata": {
        "id": "7pnyAcjZU2jF"
      },
      "execution_count": 3,
      "outputs": []
    },
    {
      "cell_type": "markdown",
      "source": [
        "**Lists**"
      ],
      "metadata": {
        "id": "4Rtud_hzxfaq"
      }
    },
    {
      "cell_type": "code",
      "source": [
        "my_list=[1,2,3,4]\n",
        "my_list"
      ],
      "metadata": {
        "colab": {
          "base_uri": "https://localhost:8080/"
        },
        "id": "vGkyhMmGxdnT",
        "outputId": "b151de0c-9e33-4082-c1ea-706dd1eca8f3"
      },
      "execution_count": 7,
      "outputs": [
        {
          "output_type": "execute_result",
          "data": {
            "text/plain": [
              "[1, 2, 3, 4]"
            ]
          },
          "metadata": {},
          "execution_count": 7
        }
      ]
    },
    {
      "cell_type": "code",
      "source": [
        "my_list=[[1,2,3,4],[4,3,2,1]]\n",
        "my_list"
      ],
      "metadata": {
        "colab": {
          "base_uri": "https://localhost:8080/"
        },
        "id": "cMyKv_7xxnET",
        "outputId": "62691c8f-edc1-4def-f75a-e92220ef9ed0"
      },
      "execution_count": 8,
      "outputs": [
        {
          "output_type": "execute_result",
          "data": {
            "text/plain": [
              "[[1, 2, 3, 4], [4, 3, 2, 1]]"
            ]
          },
          "metadata": {},
          "execution_count": 8
        }
      ]
    },
    {
      "cell_type": "markdown",
      "source": [
        "**Array**"
      ],
      "metadata": {
        "id": "NYd6Hw0OyHHr"
      }
    },
    {
      "cell_type": "code",
      "source": [
        "np1=np.random.rand(3,4)\n",
        "np1"
      ],
      "metadata": {
        "colab": {
          "base_uri": "https://localhost:8080/"
        },
        "id": "V-aG5GTux9P7",
        "outputId": "e23be107-19af-48c3-baea-31dd2d8bfc8f"
      },
      "execution_count": 11,
      "outputs": [
        {
          "output_type": "execute_result",
          "data": {
            "text/plain": [
              "array([[0.30235016, 0.03846667, 0.16982019, 0.79205456],\n",
              "       [0.848421  , 0.16664015, 0.32522213, 0.02811808],\n",
              "       [0.05989417, 0.11605305, 0.66595881, 0.85397978]])"
            ]
          },
          "metadata": {},
          "execution_count": 11
        }
      ]
    },
    {
      "cell_type": "code",
      "source": [
        "print(np1.dtype)"
      ],
      "metadata": {
        "colab": {
          "base_uri": "https://localhost:8080/"
        },
        "id": "zaFgE17Ux_Wr",
        "outputId": "43b5a068-0e96-45bc-ad60-b6ef5e7fb354"
      },
      "execution_count": 13,
      "outputs": [
        {
          "output_type": "stream",
          "name": "stdout",
          "text": [
            "float64\n"
          ]
        }
      ]
    },
    {
      "cell_type": "markdown",
      "source": [
        "**Tensor**"
      ],
      "metadata": {
        "id": "m2C07gyMy-Uj"
      }
    },
    {
      "cell_type": "code",
      "source": [
        "tensor_2d=torch.randn(3,4)\n",
        "tensor_2d"
      ],
      "metadata": {
        "colab": {
          "base_uri": "https://localhost:8080/"
        },
        "id": "-pBdni_gyc4y",
        "outputId": "67f0bf04-162e-443e-cf73-03dd63ec5cda"
      },
      "execution_count": 14,
      "outputs": [
        {
          "output_type": "execute_result",
          "data": {
            "text/plain": [
              "tensor([[-0.1493, -0.6093, -0.4581, -1.0535],\n",
              "        [ 0.9218, -0.4331,  0.2306,  0.1331],\n",
              "        [ 0.5374,  0.3302,  0.0144, -0.6951]])"
            ]
          },
          "metadata": {},
          "execution_count": 14
        }
      ]
    },
    {
      "cell_type": "code",
      "source": [
        "tensor_2d.dtype"
      ],
      "metadata": {
        "colab": {
          "base_uri": "https://localhost:8080/"
        },
        "id": "QelBAG7Kz1eC",
        "outputId": "e7f3179b-fa8e-401a-d218-75782be824da"
      },
      "execution_count": 20,
      "outputs": [
        {
          "output_type": "execute_result",
          "data": {
            "text/plain": [
              "torch.float32"
            ]
          },
          "metadata": {},
          "execution_count": 20
        }
      ]
    },
    {
      "cell_type": "code",
      "source": [
        "tensor_3d=torch.randn(2,4,5)\n",
        "tensor_3d"
      ],
      "metadata": {
        "colab": {
          "base_uri": "https://localhost:8080/"
        },
        "id": "bHEJUkm4zNzc",
        "outputId": "a813156e-d2c4-4638-d654-7046beb39759"
      },
      "execution_count": 19,
      "outputs": [
        {
          "output_type": "execute_result",
          "data": {
            "text/plain": [
              "tensor([[[-0.2187, -0.4908,  0.3793,  0.0064,  0.3410],\n",
              "         [-0.5054, -0.1805,  0.9692, -0.2173,  0.0839],\n",
              "         [ 1.6226, -1.5453,  0.1707, -0.6926,  1.1733],\n",
              "         [-0.1936,  0.2800, -2.4748,  0.9282, -0.4144]],\n",
              "\n",
              "        [[ 2.2594,  0.1558,  0.9350, -2.2644, -1.2709],\n",
              "         [-0.4360,  2.0452,  1.6415, -0.8073,  0.7795],\n",
              "         [ 0.6099, -0.4546, -0.3502,  0.3218,  0.6317],\n",
              "         [ 1.2827,  1.0919, -0.7005, -0.7850,  0.4232]]])"
            ]
          },
          "metadata": {},
          "execution_count": 19
        }
      ]
    },
    {
      "cell_type": "code",
      "source": [
        "#Converting Numpy to Tensor\n",
        "tensor_from_numpy=torch.from_numpy(np1)\n",
        "tensor_from_numpy"
      ],
      "metadata": {
        "colab": {
          "base_uri": "https://localhost:8080/"
        },
        "id": "yemmCROVzeCS",
        "outputId": "6ed560b6-1154-4c58-b7ef-a945d7f5a09c"
      },
      "execution_count": 18,
      "outputs": [
        {
          "output_type": "execute_result",
          "data": {
            "text/plain": [
              "tensor([[0.3024, 0.0385, 0.1698, 0.7921],\n",
              "        [0.8484, 0.1666, 0.3252, 0.0281],\n",
              "        [0.0599, 0.1161, 0.6660, 0.8540]], dtype=torch.float64)"
            ]
          },
          "metadata": {},
          "execution_count": 18
        }
      ]
    },
    {
      "cell_type": "markdown",
      "source": [
        "**# Tensor Operations**"
      ],
      "metadata": {
        "id": "euL4DoXA1fGP"
      }
    },
    {
      "cell_type": "code",
      "source": [
        " #Reshaping tensor\n",
        " my_tensor=torch.arange(10)\n",
        " my_tensor"
      ],
      "metadata": {
        "colab": {
          "base_uri": "https://localhost:8080/"
        },
        "id": "nDLXbqHpznxR",
        "outputId": "dacba16c-50b1-496c-fa31-29787d542255"
      },
      "execution_count": 23,
      "outputs": [
        {
          "output_type": "execute_result",
          "data": {
            "text/plain": [
              "tensor([0, 1, 2, 3, 4, 5, 6, 7, 8, 9])"
            ]
          },
          "metadata": {},
          "execution_count": 23
        }
      ]
    },
    {
      "cell_type": "code",
      "source": [
        "reshped_tensor=my_tensor.reshape(2,5)\n",
        "reshped_tensor"
      ],
      "metadata": {
        "id": "mYqboV8l2bmg",
        "outputId": "fbae9eb1-4e91-4f3a-97ca-e159e964c68e",
        "colab": {
          "base_uri": "https://localhost:8080/"
        }
      },
      "execution_count": 24,
      "outputs": [
        {
          "output_type": "execute_result",
          "data": {
            "text/plain": [
              "tensor([[0, 1, 2, 3, 4],\n",
              "        [5, 6, 7, 8, 9]])"
            ]
          },
          "metadata": {},
          "execution_count": 24
        }
      ]
    },
    {
      "cell_type": "code",
      "source": [
        "#If we don't know the number of data points but know how many rows we want\n",
        "reshaped_tensor=my_tensor.reshape(5,-1)\n",
        "reshaped_tensor"
      ],
      "metadata": {
        "id": "DPnwDF9J2mcX",
        "outputId": "d8cc11fb-66be-4de4-cec9-71fae3ff5a06",
        "colab": {
          "base_uri": "https://localhost:8080/"
        }
      },
      "execution_count": 26,
      "outputs": [
        {
          "output_type": "execute_result",
          "data": {
            "text/plain": [
              "tensor([[0, 1],\n",
              "        [2, 3],\n",
              "        [4, 5],\n",
              "        [6, 7],\n",
              "        [8, 9]])"
            ]
          },
          "metadata": {},
          "execution_count": 26
        }
      ]
    },
    {
      "cell_type": "code",
      "source": [
        "#If we don't know the number of data points but know how many rows we want\n",
        "reshaped_tensor1=my_tensor.reshape(-1,5)\n",
        "reshaped_tensor1"
      ],
      "metadata": {
        "id": "do58JKUR2rVI",
        "outputId": "0d4ea4b1-41c9-4375-854a-c5a875e4eaae",
        "colab": {
          "base_uri": "https://localhost:8080/"
        }
      },
      "execution_count": 28,
      "outputs": [
        {
          "output_type": "execute_result",
          "data": {
            "text/plain": [
              "tensor([[0, 1, 2, 3, 4],\n",
              "        [5, 6, 7, 8, 9]])"
            ]
          },
          "metadata": {},
          "execution_count": 28
        }
      ]
    },
    {
      "cell_type": "code",
      "source": [
        "#View and Reshape\n",
        "reshaped_tensor1=my_tensor.view(-1,5)\n",
        "reshaped_tensor1"
      ],
      "metadata": {
        "id": "GhNubPEi3CsX",
        "outputId": "7d0425e9-5fbf-4ed9-c649-c5b6b1f14083",
        "colab": {
          "base_uri": "https://localhost:8080/"
        }
      },
      "execution_count": 29,
      "outputs": [
        {
          "output_type": "execute_result",
          "data": {
            "text/plain": [
              "tensor([[0, 1, 2, 3, 4],\n",
              "        [5, 6, 7, 8, 9]])"
            ]
          },
          "metadata": {},
          "execution_count": 29
        }
      ]
    },
    {
      "cell_type": "markdown",
      "source": [
        "*Changing tensor element change automatically in every where*"
      ],
      "metadata": {
        "id": "dIRetxbG3wPJ"
      }
    },
    {
      "cell_type": "code",
      "source": [
        "my_tensor[0]=1000;\n",
        "my_tensor"
      ],
      "metadata": {
        "id": "BvD3qZOt3Qno",
        "outputId": "63ca636c-aef6-46e1-ef33-a8ba328879fb",
        "colab": {
          "base_uri": "https://localhost:8080/"
        }
      },
      "execution_count": 30,
      "outputs": [
        {
          "output_type": "execute_result",
          "data": {
            "text/plain": [
              "tensor([1000,    1,    2,    3,    4,    5,    6,    7,    8,    9])"
            ]
          },
          "metadata": {},
          "execution_count": 30
        }
      ]
    },
    {
      "cell_type": "code",
      "source": [
        "reshaped_tensor1"
      ],
      "metadata": {
        "id": "4JSbl0v23742",
        "outputId": "c8962a46-4b62-4dfa-ee38-24d49c9f7dca",
        "colab": {
          "base_uri": "https://localhost:8080/"
        }
      },
      "execution_count": 31,
      "outputs": [
        {
          "output_type": "execute_result",
          "data": {
            "text/plain": [
              "tensor([[1000,    1,    2,    3,    4],\n",
              "        [   5,    6,    7,    8,    9]])"
            ]
          },
          "metadata": {},
          "execution_count": 31
        }
      ]
    },
    {
      "cell_type": "markdown",
      "source": [
        "**Slicing**"
      ],
      "metadata": {
        "id": "uNVbLQYT4edu"
      }
    },
    {
      "cell_type": "code",
      "source": [
        "#Slicing\n",
        "my_tensor[1]"
      ],
      "metadata": {
        "id": "ND9gZxgI39r_",
        "outputId": "ad11be42-dbb9-45c6-a3eb-6c7754bd5c95",
        "colab": {
          "base_uri": "https://localhost:8080/"
        }
      },
      "execution_count": 32,
      "outputs": [
        {
          "output_type": "execute_result",
          "data": {
            "text/plain": [
              "tensor(1)"
            ]
          },
          "metadata": {},
          "execution_count": 32
        }
      ]
    },
    {
      "cell_type": "code",
      "source": [
        "reshaped_tensor1[:,2]"
      ],
      "metadata": {
        "id": "3vTvjS_z4kD-",
        "outputId": "00b17355-2442-4368-dade-b5cb717fc6a4",
        "colab": {
          "base_uri": "https://localhost:8080/"
        }
      },
      "execution_count": 34,
      "outputs": [
        {
          "output_type": "execute_result",
          "data": {
            "text/plain": [
              "tensor([2, 7])"
            ]
          },
          "metadata": {},
          "execution_count": 34
        }
      ]
    },
    {
      "cell_type": "code",
      "source": [
        "# Returning column'\n",
        "reshaped_tensor1[:,4:]"
      ],
      "metadata": {
        "id": "CLYNQgY74ofP",
        "outputId": "267a6b5a-bea9-41cf-cf79-0a2b45fe4b00",
        "colab": {
          "base_uri": "https://localhost:8080/"
        }
      },
      "execution_count": 37,
      "outputs": [
        {
          "output_type": "execute_result",
          "data": {
            "text/plain": [
              "tensor([[4],\n",
              "        [9]])"
            ]
          },
          "metadata": {},
          "execution_count": 37
        }
      ]
    },
    {
      "cell_type": "markdown",
      "source": [
        "**Tensor Math Operation**\n",
        "\n",
        "*Add, Subtract,Multiply,Divide,Remainders,Exponents*\n"
      ],
      "metadata": {
        "id": "lpVeSx0xnfIU"
      }
    },
    {
      "cell_type": "code",
      "source": [
        "tensor_a=torch.tensor([1,2,3,4])\n",
        "tensor_b=torch.tensor([5,6,7,8])\n",
        "add_tensor=tensor_a+tensor_b\n",
        "add_tensor"
      ],
      "metadata": {
        "id": "CDSyhQ6648wm",
        "outputId": "00f1ebdb-f8b6-4945-83e9-ab460cbf38eb",
        "colab": {
          "base_uri": "https://localhost:8080/"
        }
      },
      "execution_count": 4,
      "outputs": [
        {
          "output_type": "execute_result",
          "data": {
            "text/plain": [
              "tensor([ 6,  8, 10, 12])"
            ]
          },
          "metadata": {},
          "execution_count": 4
        }
      ]
    },
    {
      "cell_type": "code",
      "source": [
        "torch.add(tensor_a,tensor_b)"
      ],
      "metadata": {
        "id": "pZeXqokSsu8Q",
        "outputId": "8119170e-9e0c-47b3-9325-d795c4a5c66b",
        "colab": {
          "base_uri": "https://localhost:8080/"
        }
      },
      "execution_count": 5,
      "outputs": [
        {
          "output_type": "execute_result",
          "data": {
            "text/plain": [
              "tensor([ 6,  8, 10, 12])"
            ]
          },
          "metadata": {},
          "execution_count": 5
        }
      ]
    },
    {
      "cell_type": "code",
      "source": [
        "#Subtract\n",
        "sub_tensor=tensor_a-tensor_b\n",
        "sub_tensor"
      ],
      "metadata": {
        "id": "0IMQ3uRvs_oG",
        "outputId": "faa72cf4-8a5e-4221-b83b-e8a79cae0a87",
        "colab": {
          "base_uri": "https://localhost:8080/"
        }
      },
      "execution_count": 6,
      "outputs": [
        {
          "output_type": "execute_result",
          "data": {
            "text/plain": [
              "tensor([-4, -4, -4, -4])"
            ]
          },
          "metadata": {},
          "execution_count": 6
        }
      ]
    },
    {
      "cell_type": "code",
      "source": [
        "torch.sub(tensor_a,tensor_b)"
      ],
      "metadata": {
        "id": "bgLS25zytMz0",
        "outputId": "22d26f31-5561-488b-a752-337b6b65fd65",
        "colab": {
          "base_uri": "https://localhost:8080/"
        }
      },
      "execution_count": 7,
      "outputs": [
        {
          "output_type": "execute_result",
          "data": {
            "text/plain": [
              "tensor([-4, -4, -4, -4])"
            ]
          },
          "metadata": {},
          "execution_count": 7
        }
      ]
    },
    {
      "cell_type": "code",
      "source": [
        "#multiplication\n",
        "prod_tensor=tensor_a*tensor_b\n",
        "prod_tensor"
      ],
      "metadata": {
        "id": "1J68LWTZtQ3t",
        "outputId": "1714c31e-b004-4021-8893-274966c45463",
        "colab": {
          "base_uri": "https://localhost:8080/"
        }
      },
      "execution_count": 8,
      "outputs": [
        {
          "output_type": "execute_result",
          "data": {
            "text/plain": [
              "tensor([ 5, 12, 21, 32])"
            ]
          },
          "metadata": {},
          "execution_count": 8
        }
      ]
    },
    {
      "cell_type": "code",
      "source": [
        "torch.multiply(tensor_a,tensor_b)"
      ],
      "metadata": {
        "id": "2K9aAqSBtZhW",
        "outputId": "7a766c4d-c8ad-498e-d476-003b0fdc81d2",
        "colab": {
          "base_uri": "https://localhost:8080/"
        }
      },
      "execution_count": 10,
      "outputs": [
        {
          "output_type": "execute_result",
          "data": {
            "text/plain": [
              "tensor([ 5, 12, 21, 32])"
            ]
          },
          "metadata": {},
          "execution_count": 10
        }
      ]
    },
    {
      "cell_type": "code",
      "source": [
        "#Division\n",
        "div_tensor=tensor_a/tensor_b\n",
        "div_tensor"
      ],
      "metadata": {
        "id": "GguiXJl7tcI2",
        "outputId": "f4d57711-5365-4c44-cb9d-4a99b1f4d32c",
        "colab": {
          "base_uri": "https://localhost:8080/"
        }
      },
      "execution_count": 11,
      "outputs": [
        {
          "output_type": "execute_result",
          "data": {
            "text/plain": [
              "tensor([0.2000, 0.3333, 0.4286, 0.5000])"
            ]
          },
          "metadata": {},
          "execution_count": 11
        }
      ]
    },
    {
      "cell_type": "code",
      "source": [
        "torch.div(tensor_a,tensor_b)"
      ],
      "metadata": {
        "id": "vpuPqAPwtlet",
        "outputId": "3e32916b-7d5e-4ad9-b0c0-13225d5676e4",
        "colab": {
          "base_uri": "https://localhost:8080/"
        }
      },
      "execution_count": 12,
      "outputs": [
        {
          "output_type": "execute_result",
          "data": {
            "text/plain": [
              "tensor([0.2000, 0.3333, 0.4286, 0.5000])"
            ]
          },
          "metadata": {},
          "execution_count": 12
        }
      ]
    },
    {
      "cell_type": "code",
      "source": [
        "#Remainder\n",
        "rem_tensor=tensor_b%tensor_a\n",
        "rem_tensor"
      ],
      "metadata": {
        "id": "fvIiFvkatoWV",
        "outputId": "af1c5d83-0a8b-484f-9334-7c5f1940ee2f",
        "colab": {
          "base_uri": "https://localhost:8080/"
        }
      },
      "execution_count": 16,
      "outputs": [
        {
          "output_type": "execute_result",
          "data": {
            "text/plain": [
              "tensor([0, 0, 1, 0])"
            ]
          },
          "metadata": {},
          "execution_count": 16
        }
      ]
    },
    {
      "cell_type": "code",
      "source": [
        "torch.remainder(tensor_b,tensor_a)"
      ],
      "metadata": {
        "id": "ieYwZD_gtu3U",
        "outputId": "e1ba49c6-b1b5-4095-fc5a-6e75ddcb230c",
        "colab": {
          "base_uri": "https://localhost:8080/"
        }
      },
      "execution_count": 17,
      "outputs": [
        {
          "output_type": "execute_result",
          "data": {
            "text/plain": [
              "tensor([0, 0, 1, 0])"
            ]
          },
          "metadata": {},
          "execution_count": 17
        }
      ]
    },
    {
      "cell_type": "code",
      "source": [
        "#Exponents\n",
        "print(tensor_a,tensor_b)\n",
        "torch.pow(tensor_b,tensor_a)"
      ],
      "metadata": {
        "id": "casCfsaot9Bl",
        "outputId": "e93b970a-8b37-4daf-c9d6-7b32a42a956e",
        "colab": {
          "base_uri": "https://localhost:8080/"
        }
      },
      "execution_count": 22,
      "outputs": [
        {
          "output_type": "stream",
          "name": "stdout",
          "text": [
            "tensor([1, 2, 3, 4]) tensor([5, 6, 7, 8])\n"
          ]
        },
        {
          "output_type": "execute_result",
          "data": {
            "text/plain": [
              "tensor([   5,   36,  343, 4096])"
            ]
          },
          "metadata": {},
          "execution_count": 22
        }
      ]
    },
    {
      "cell_type": "code",
      "source": [
        "#Longhand\n",
        "tensor_a.add(tensor_b)"
      ],
      "metadata": {
        "id": "DWrBCrk4uEY0",
        "outputId": "dfd992ac-ad10-41e0-87a9-c977e4fec714",
        "colab": {
          "base_uri": "https://localhost:8080/"
        }
      },
      "execution_count": 25,
      "outputs": [
        {
          "output_type": "execute_result",
          "data": {
            "text/plain": [
              "tensor([ 6,  8, 10, 12])"
            ]
          },
          "metadata": {},
          "execution_count": 25
        }
      ]
    },
    {
      "cell_type": "code",
      "source": [
        "#Reassign elements to tensor\n",
        "tensor_a.add_(tensor_b)"
      ],
      "metadata": {
        "id": "lLIfLw4kugVM",
        "outputId": "bd78e5de-746b-413c-aece-7fedc4c25bfe",
        "colab": {
          "base_uri": "https://localhost:8080/"
        }
      },
      "execution_count": 27,
      "outputs": [
        {
          "output_type": "execute_result",
          "data": {
            "text/plain": [
              "tensor([ 6,  8, 10, 12])"
            ]
          },
          "metadata": {},
          "execution_count": 27
        }
      ]
    },
    {
      "cell_type": "code",
      "source": [
        "\n",
        "tensor_a"
      ],
      "metadata": {
        "id": "29-a9p3quyeU",
        "outputId": "84e4693c-5ac2-4a57-e881-09140fcd6a07",
        "colab": {
          "base_uri": "https://localhost:8080/"
        }
      },
      "execution_count": 28,
      "outputs": [
        {
          "output_type": "execute_result",
          "data": {
            "text/plain": [
              "tensor([ 6,  8, 10, 12])"
            ]
          },
          "metadata": {},
          "execution_count": 28
        }
      ]
    },
    {
      "cell_type": "code",
      "source": [],
      "metadata": {
        "id": "w3TKCeEYu1VV"
      },
      "execution_count": null,
      "outputs": []
    }
  ]
}